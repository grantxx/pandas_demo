{
 "cells": [
  {
   "cell_type": "code",
   "execution_count": 6,
   "metadata": {},
   "outputs": [
    {
     "name": "stdout",
     "output_type": "stream",
     "text": [
      "[*********************100%***********************]  1 of 1 completed\n"
     ]
    }
   ],
   "source": [
    "import numpy as np\n",
    "from numpy.polynomial.polynomial import polyfit\n",
    "import matplotlib.pyplot as plt\n",
    "import datetime\n",
    "import yfinance as yf\n",
    "import pandas as pd\n",
    "import seaborn as sns\n",
    "\n",
    "Ins_Name = \"EURUSD=X\"\n",
    "#Ins_Name = \"AAPL\"\n",
    "Ins_Name = \"HSI\"\n",
    "df = yf.download(Ins_Name,'2019-02-01','2020-01-08')\n",
    "df.reset_index(inplace=True)\n",
    "df['date_ordinal'] = pd.to_datetime(df['Date']).apply(lambda date: date.toordinal())\n",
    "df = df.drop('Date', 1)\n",
    "df = df.drop('Adj Close', 1)\n",
    "df = df.drop('Volume', 1)\n",
    "df['ErrorSlope'] = np.nan\n",
    "df['ErrorSlopeDiff'] = np.nan\n",
    "x = df.date_ordinal\n",
    "y = df.Close\n",
    "\n",
    "#Get the Linear regression\n",
    "# Fit with polyfit\n",
    "b, m = polyfit(x, y, 1)\n",
    "\n",
    "for index, row in df.iterrows():\n",
    "      df.ErrorSlope = b + m * df.date_ordinal\n",
    "      df.ErrorSlopeDiff = df.Close - df.ErrorSlope\n",
    "      #print(datetime.date.fromordinal(int(row.date_ordinal)))\n",
    "maxdiff = df.ErrorSlopeDiff.max()\n",
    "mindiff = df.ErrorSlopeDiff.min()\n",
    "z = df.ErrorSlope\n",
    "# print(x)\n",
    "# print(datetime.date.fromordinal(int(df.date_ordinal.max())))\n",
    "# print(df.date_ordinal.max())\n",
    "# print(df.date_ordinal)\n",
    "# print(x.max())\n",
    "\n",
    "bufferspaceLow = (df['Close'].min() * 1.005)-df['Close'].min()\n",
    "bufferspaceLow = df['Close'].min() - bufferspaceLow\n",
    "\n",
    "\n",
    "\n",
    "#-------------Old plot\n",
    "# #Plot the data\n",
    "# #sns.set()\n",
    "# fig, ax = plt.subplots(figsize=(20,7))\n",
    "# #ax = plt.plot(x, y, '.')\n",
    "# ax = sns.regplot(data=df,x='date_ordinal',y=df.Close,ci=1,fit_reg=False,scatter_kws={\"color\": \"red\"}\n",
    "#                  , line_kws={\"color\": \"black\"}, marker='x') #scatterplot\n",
    "# plt.plot(x,z, '-k')\n",
    "# plt.plot(x, maxdiff + (b + m * x), '--b')\n",
    "# plt.plot(x, mindiff + (b + m * x), '--b')\n",
    "# ax.set_xlabel('Interval', fontsize=25)\n",
    "# ax.set_ylabel('Price', fontsize=25)\n",
    "# ax.set_title('Mean reversion of ' + Ins_Name + ' Close Prices',fontsize= 45,color='black')\n",
    "# #set the total number of ticks in the x-axis and evenly distribute it across the axis.\n",
    "# ax.xaxis.set_major_locator(plt.MaxNLocator(10))\n",
    "\n",
    "# #xtickscheck = ax.get_xticks()\n",
    "# #new_labels = [datetime.date.fromordinal(int(item)) for item in ax.get_xticks()]\n",
    "# #ax.set_xticklabels( rotation=90)\n",
    "\n",
    "# # Tighten up the axes for prettiness\n",
    "# ax.set_xlim(df['date_ordinal'].min() - 4, df['date_ordinal'].max() + 4)\n",
    "# ax.set_ylim(bufferspaceLow, df['Close'].max() + 0.01)\n",
    "# plt.show()\n",
    "# #print(new_labels)\n",
    "# #print(xtickscheck)\n",
    "# #print(x)\n",
    "# #print(df.ErrorSlopeDiff)\n",
    "# print(df.Close)\n",
    "#-------------End Old plot"
   ]
  }
 ],
 "metadata": {
  "kernelspec": {
   "display_name": "Python 3",
   "language": "python",
   "name": "python3"
  },
  "language_info": {
   "codemirror_mode": {
    "name": "ipython",
    "version": 3
   },
   "file_extension": ".py",
   "mimetype": "text/x-python",
   "name": "python",
   "nbconvert_exporter": "python",
   "pygments_lexer": "ipython3",
   "version": "3.8.1"
  }
 },
 "nbformat": 4,
 "nbformat_minor": 4
}
