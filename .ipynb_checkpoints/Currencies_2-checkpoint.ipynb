{
 "cells": [
  {
   "cell_type": "code",
   "execution_count": 47,
   "metadata": {},
   "outputs": [],
   "source": [
    "import pandas as pd\n",
    "import matplotlib.pyplot as plt\n",
    "from datetime import datetime\n",
    "\n",
    "cols=['Date', 'Time', 'Open','High','Low','Last']\n",
    "dfm = pd.read_csv('data/eum.csv',skipinitialspace=True, usecols=cols)\n",
    "dfw = pd.read_csv('data/euw.csv',skipinitialspace=True, usecols=cols)\n",
    "dfd = pd.read_csv('data/eud.csv',skipinitialspace=True, usecols=cols)\n",
    "df4hr = pd.read_csv('data/eu4h.csv',skipinitialspace=True, usecols=cols)\n",
    "# df1hr = pd.read_csv('data/HSI.1hr.csv',skipinitialspace=True, usecols=cols)"
   ]
  },
  {
   "cell_type": "markdown",
   "metadata": {},
   "source": [
    "## Cleanup the date column and set it as an integer type"
   ]
  },
  {
   "cell_type": "code",
   "execution_count": 48,
   "metadata": {},
   "outputs": [],
   "source": [
    "# def cleanup(df):\n",
    "#     #Remove slashes from the date for easier plotting\n",
    "#     #df['Date'].replace(r'\\/', '', regex=True, inplace=True)\n",
    "#     return df\n",
    "\n",
    "# dfm = cleanup(dfm)\n",
    "# dfw = cleanup(dfw)\n",
    "# dfd = cleanup(dfd)\n",
    "# df4hr = cleanup(df4hr)\n",
    "# df1hr = cleanup(df1hr)"
   ]
  },
  {
   "cell_type": "markdown",
   "metadata": {},
   "source": [
    "## Add additional columns so that I can identify the timeframe later"
   ]
  },
  {
   "cell_type": "code",
   "execution_count": 49,
   "metadata": {},
   "outputs": [
    {
     "name": "stdout",
     "output_type": "stream",
     "text": [
      "1.3296\n"
     ]
    }
   ],
   "source": [
    "dfm['tf'] = 1\n",
    "dfw['tf'] = 2\n",
    "dfd['tf'] = 3\n",
    "df4hr['tf'] = 4\n",
    "df1hr['tf'] = 5\n",
    "print(dfd['Last'].max())"
   ]
  },
  {
   "cell_type": "code",
   "execution_count": 50,
   "metadata": {},
   "outputs": [],
   "source": [
    "bigdata = pd.concat([dfm, dfw, dfd], ignore_index=True, sort =False)"
   ]
  },
  {
   "cell_type": "code",
   "execution_count": 51,
   "metadata": {},
   "outputs": [
    {
     "name": "stdout",
     "output_type": "stream",
     "text": [
      "Monthly =  59 rows\n",
      "Weekly =  255 rows\n",
      "Daily =  1229 rows\n",
      "4HR =  615 rows\n",
      "bigdata = 1543 rows\n"
     ]
    }
   ],
   "source": [
    "print('Monthly = ', dfm.shape[0],'rows')\n",
    "print('Weekly = ',dfw.shape[0], 'rows')\n",
    "print('Daily = ', dfd.shape[0], 'rows')\n",
    "print('4HR = ', df4hr.shape[0], 'rows')\n",
    "# print('1HR = ', df1hr.shape[0], 'rows')\n",
    "print('bigdata =' , bigdata.shape[0], 'rows')"
   ]
  },
  {
   "cell_type": "markdown",
   "metadata": {},
   "source": [
    "## Cleanup data d erduce the size of datasets"
   ]
  },
  {
   "cell_type": "code",
   "execution_count": 52,
   "metadata": {},
   "outputs": [],
   "source": [
    "#reset index\n",
    "def cleanup2(df):    \n",
    "    df.sort_values(by=['Date'], inplace=True, ascending=True)\n",
    "    df = df.tail(10)\n",
    "    df.reset_index(drop=True, inplace=True)        \n",
    "    return df\n",
    "\n",
    "dfm = cleanup2(dfm)\n",
    "dfd = cleanup2(dfd)\n",
    "dfw = cleanup2(dfw)\n",
    "df4hr = cleanup2(df4hr)\n",
    "\n",
    "df4hr.dtypes\n",
    "##Add another column combining data and time for plotting later\n",
    "df4hr['Datetime_col'] = df4hr['Date'] + df4hr['Time']"
   ]
  },
  {
   "cell_type": "markdown",
   "metadata": {},
   "source": [
    "## Groupby needs further investigation. Leaving alone for now"
   ]
  },
  {
   "cell_type": "code",
   "execution_count": 53,
   "metadata": {},
   "outputs": [
    {
     "data": {
      "text/html": [
       "<div>\n",
       "<style scoped>\n",
       "    .dataframe tbody tr th:only-of-type {\n",
       "        vertical-align: middle;\n",
       "    }\n",
       "\n",
       "    .dataframe tbody tr th {\n",
       "        vertical-align: top;\n",
       "    }\n",
       "\n",
       "    .dataframe thead th {\n",
       "        text-align: right;\n",
       "    }\n",
       "</style>\n",
       "<table border=\"1\" class=\"dataframe\">\n",
       "  <thead>\n",
       "    <tr style=\"text-align: right;\">\n",
       "      <th></th>\n",
       "      <th>Date</th>\n",
       "      <th>Time</th>\n",
       "      <th>Open</th>\n",
       "      <th>High</th>\n",
       "      <th>Low</th>\n",
       "      <th>Last</th>\n",
       "      <th>tf</th>\n",
       "    </tr>\n",
       "  </thead>\n",
       "  <tbody>\n",
       "    <tr>\n",
       "      <th>0</th>\n",
       "      <td>2019/8/19</td>\n",
       "      <td>00:00:00</td>\n",
       "      <td>1.12520</td>\n",
       "      <td>1.13125</td>\n",
       "      <td>1.12265</td>\n",
       "      <td>1.13125</td>\n",
       "      <td>2</td>\n",
       "    </tr>\n",
       "    <tr>\n",
       "      <th>1</th>\n",
       "      <td>2019/8/26</td>\n",
       "      <td>00:00:00</td>\n",
       "      <td>1.13010</td>\n",
       "      <td>1.13195</td>\n",
       "      <td>1.11335</td>\n",
       "      <td>1.11395</td>\n",
       "      <td>2</td>\n",
       "    </tr>\n",
       "    <tr>\n",
       "      <th>2</th>\n",
       "      <td>2019/8/5</td>\n",
       "      <td>00:00:00</td>\n",
       "      <td>1.13005</td>\n",
       "      <td>1.14200</td>\n",
       "      <td>1.13005</td>\n",
       "      <td>1.13870</td>\n",
       "      <td>2</td>\n",
       "    </tr>\n",
       "    <tr>\n",
       "      <th>3</th>\n",
       "      <td>2019/9/16</td>\n",
       "      <td>00:00:00</td>\n",
       "      <td>1.12355</td>\n",
       "      <td>1.12355</td>\n",
       "      <td>1.11375</td>\n",
       "      <td>1.11540</td>\n",
       "      <td>2</td>\n",
       "    </tr>\n",
       "    <tr>\n",
       "      <th>4</th>\n",
       "      <td>2019/9/23</td>\n",
       "      <td>00:00:00</td>\n",
       "      <td>1.11580</td>\n",
       "      <td>1.11660</td>\n",
       "      <td>1.10410</td>\n",
       "      <td>1.10755</td>\n",
       "      <td>2</td>\n",
       "    </tr>\n",
       "    <tr>\n",
       "      <th>5</th>\n",
       "      <td>2019/9/3</td>\n",
       "      <td>00:00:00</td>\n",
       "      <td>1.11250</td>\n",
       "      <td>1.12365</td>\n",
       "      <td>1.10910</td>\n",
       "      <td>1.11875</td>\n",
       "      <td>2</td>\n",
       "    </tr>\n",
       "    <tr>\n",
       "      <th>6</th>\n",
       "      <td>2019/9/30</td>\n",
       "      <td>00:00:00</td>\n",
       "      <td>1.10675</td>\n",
       "      <td>1.11260</td>\n",
       "      <td>1.10145</td>\n",
       "      <td>1.11070</td>\n",
       "      <td>2</td>\n",
       "    </tr>\n",
       "    <tr>\n",
       "      <th>7</th>\n",
       "      <td>2019/9/9</td>\n",
       "      <td>00:00:00</td>\n",
       "      <td>1.11780</td>\n",
       "      <td>1.12575</td>\n",
       "      <td>1.10850</td>\n",
       "      <td>1.12180</td>\n",
       "      <td>2</td>\n",
       "    </tr>\n",
       "    <tr>\n",
       "      <th>8</th>\n",
       "      <td>2020/1/13</td>\n",
       "      <td>00:00:00</td>\n",
       "      <td>1.11615</td>\n",
       "      <td>1.11905</td>\n",
       "      <td>1.11530</td>\n",
       "      <td>1.11530</td>\n",
       "      <td>2</td>\n",
       "    </tr>\n",
       "    <tr>\n",
       "      <th>9</th>\n",
       "      <td>2020/1/6</td>\n",
       "      <td>00:00:00</td>\n",
       "      <td>1.12085</td>\n",
       "      <td>1.12545</td>\n",
       "      <td>1.11290</td>\n",
       "      <td>1.11660</td>\n",
       "      <td>2</td>\n",
       "    </tr>\n",
       "  </tbody>\n",
       "</table>\n",
       "</div>"
      ],
      "text/plain": [
       "        Date      Time     Open     High      Low     Last  tf\n",
       "0  2019/8/19  00:00:00  1.12520  1.13125  1.12265  1.13125   2\n",
       "1  2019/8/26  00:00:00  1.13010  1.13195  1.11335  1.11395   2\n",
       "2   2019/8/5  00:00:00  1.13005  1.14200  1.13005  1.13870   2\n",
       "3  2019/9/16  00:00:00  1.12355  1.12355  1.11375  1.11540   2\n",
       "4  2019/9/23  00:00:00  1.11580  1.11660  1.10410  1.10755   2\n",
       "5   2019/9/3  00:00:00  1.11250  1.12365  1.10910  1.11875   2\n",
       "6  2019/9/30  00:00:00  1.10675  1.11260  1.10145  1.11070   2\n",
       "7   2019/9/9  00:00:00  1.11780  1.12575  1.10850  1.12180   2\n",
       "8  2020/1/13  00:00:00  1.11615  1.11905  1.11530  1.11530   2\n",
       "9   2020/1/6  00:00:00  1.12085  1.12545  1.11290  1.11660   2"
      ]
     },
     "execution_count": 53,
     "metadata": {},
     "output_type": "execute_result"
    }
   ],
   "source": [
    "# #bigdata.set_option('display.max_rows', None)\n",
    "# # bigdata['date'] =  pd.to_datetime(bigdata['Date'])\n",
    "# s = bigdata.groupby(['tf','Date']).size()\n",
    "# #pd.set_option('display.max_rows',None)\n",
    "# pd.set_option('max_rows', 10)\n",
    "# #s = bigdata.groupby('tf')['Date'].count()\n",
    "# s\n",
    "dfw\n"
   ]
  },
  {
   "cell_type": "markdown",
   "metadata": {},
   "source": [
    "## Graph Plotting"
   ]
  },
  {
   "cell_type": "code",
   "execution_count": 55,
   "metadata": {},
   "outputs": [
    {
     "data": {
      "image/png": "[encoded data removed]",
      "text/plain": [
       "<Figure size 1080x504 with 4 Axes>"
      ]
     },
     "metadata": {
      "needs_background": "light"
     },
     "output_type": "display_data"
    }
   ],
   "source": [
    "# fig, axs = plt.subplots(figsize=(15,7))\n",
    "# axs.scatter(dfm.Date, dfm.Last)\n",
    "fig, axs = plt.subplots(2, 2, figsize=(15,7))\n",
    "axs[0, 0].scatter(dfm.index, dfm.Last, marker='x')\n",
    "axs[0, 0].set_title('Monthly')\n",
    "axs[0, 1].scatter(dfw.index, dfw.Last, marker='x')\n",
    "axs[0, 1].set_title('Weekly]')\n",
    "axs[1, 0].scatter(dfd.index, dfd.Last, marker='x')\n",
    "axs[1, 0].set_title('Daily')\n",
    "axs[1, 1].scatter(df4hr.index, df4hr.Last, marker='x')\n",
    "axs[1, 1].set_title('4 Hour')\n",
    "\n",
    "for ax in axs.flat:\n",
    "    ax.set(xlabel='Date', ylabel='Price')\n",
    "\n",
    "# Hide x labels and tick labels for top plots and y ticks for right plots.\n",
    "# for ax in axs.flat:\n",
    "#     ax.label_outer()"
   ]
  },
  {
   "cell_type": "code",
   "execution_count": null,
   "metadata": {},
   "outputs": [],
   "source": []
  }
 ],
 "metadata": {
  "kernelspec": {
   "display_name": "Python 3",
   "language": "python",
   "name": "python3"
  },
  "language_info": {
   "codemirror_mode": {
    "name": "ipython",
    "version": 3
   },
   "file_extension": ".py",
   "mimetype": "text/x-python",
   "name": "python",
   "nbconvert_exporter": "python",
   "pygments_lexer": "ipython3",
   "version": "3.8.1"
  }
 },
 "nbformat": 4,
 "nbformat_minor": 4
}
