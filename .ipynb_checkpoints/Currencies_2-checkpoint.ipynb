{
 "cells": [
  {
   "cell_type": "code",
   "execution_count": 155,
   "metadata": {},
   "outputs": [],
   "source": [
    "import pandas as pd\n",
    "import matplotlib.pyplot as plt\n",
    "\n",
    "cols=['Date', 'Time', 'Open','High','Low','Last']\n",
    "dfm = pd.read_csv('data/HSI.mtly.csv',skipinitialspace=True, usecols=cols)\n",
    "dfw = pd.read_csv('data/HSI.wkly.csv',skipinitialspace=True, usecols=cols)\n",
    "dfd = pd.read_csv('data/HSI.dly.csv',skipinitialspace=True, usecols=cols)\n",
    "df4hr = pd.read_csv('data/HSI.4hr.csv',skipinitialspace=True, usecols=cols)\n",
    "df1hr = pd.read_csv('data/HSI.1hr.csv',skipinitialspace=True, usecols=cols)"
   ]
  },
  {
   "cell_type": "markdown",
   "metadata": {},
   "source": [
    "## Cleanup the date column and set it as an integer type"
   ]
  },
  {
   "cell_type": "code",
   "execution_count": 57,
   "metadata": {},
   "outputs": [],
   "source": [
    "def cleanup(df):\n",
    "    #Remove slashes from the date for easier plotting\n",
    "    df['Date'].replace(r'\\/', '', regex=True, inplace=True)\n",
    "    #Change date column to an integer\n",
    "    df[\"Date\"] = pd.to_numeric(df[\"Date\"])\n",
    "    return df\n",
    "\n",
    "dfm = cleanup(dfm)\n",
    "dfw = cleanup(dfw)\n",
    "dfd = cleanup(dfd)\n",
    "df4hr = cleanup(df4hr)\n",
    "df1hr = cleanup(df1hr)"
   ]
  },
  {
   "cell_type": "markdown",
   "metadata": {},
   "source": [
    "## Add additional columns so that I can identify the timeframe later"
   ]
  },
  {
   "cell_type": "code",
   "execution_count": 113,
   "metadata": {},
   "outputs": [],
   "source": [
    "dfm['tf'] = 1\n",
    "dfw['tf'] = 2\n",
    "dfd['tf'] = 3\n",
    "df4hr['tf'] = 4\n",
    "df1hr['tf'] = 5"
   ]
  },
  {
   "cell_type": "code",
   "execution_count": 114,
   "metadata": {},
   "outputs": [
    {
     "name": "stdout",
     "output_type": "stream",
     "text": [
      "        Date      Time   Open   High    Low   Last  tf\n",
      "0  2017/1/16  00:00:00  21567  22037  21271  21977   1\n",
      "        Date      Time   Open   High    Low   Last  tf\n",
      "0  2017/1/16  00:00:00  21567  21787  21271  21528   2\n",
      "        Date      Time   Open   High    Low   Last  tf\n",
      "0  2017/1/16  00:00:00  21796  21814  21500  21593   3\n",
      "        Date      Time   Open   High    Low   Last  tf\n",
      "0  2019/9/16  02:00:00  27407  27430  27178  27292   4\n",
      "         Date      Time   Open   High    Low   Last  tf\n",
      "0  2019/11/29  01:00:00  26847  26847  26498  26555   5\n"
     ]
    }
   ],
   "source": [
    "print(dfm.head(1))\n",
    "print(dfw.head(1))\n",
    "print(dfd.head(1))\n",
    "print(df4hr.head(1))\n",
    "print(df1hr.head(1))"
   ]
  },
  {
   "cell_type": "code",
   "execution_count": 152,
   "metadata": {},
   "outputs": [],
   "source": [
    "bigdata = pd.concat([dfm, dfw, dfd], ignore_index=True, sort =False)"
   ]
  },
  {
   "cell_type": "code",
   "execution_count": 130,
   "metadata": {},
   "outputs": [
    {
     "name": "stdout",
     "output_type": "stream",
     "text": [
      "Monthly =  37 rows\n",
      "Weekly =  157 rows\n",
      "Daily =  737 rows\n",
      "4HR =  453 rows\n",
      "1HR =  479 rows\n",
      "bigdata = 931 rows\n"
     ]
    }
   ],
   "source": [
    "print('Monthly = ', dfm.shape[0],'rows')\n",
    "print('Weekly = ',dfw.shape[0], 'rows')\n",
    "print('Daily = ', dfd.shape[0], 'rows')\n",
    "print('4HR = ', df4hr.shape[0], 'rows')\n",
    "print('1HR = ', df1hr.shape[0], 'rows')\n",
    "print('bigdata =' , bigdata.shape[0], 'rows')"
   ]
  },
  {
   "cell_type": "markdown",
   "metadata": {},
   "source": [
    "## Groupby needs further investigation. Leaving alone for now"
   ]
  },
  {
   "cell_type": "code",
   "execution_count": null,
   "metadata": {},
   "outputs": [],
   "source": [
    "#bigdata.set_option('display.max_rows', None)\n",
    "# bigdata['date'] =  pd.to_datetime(bigdata['Date'])\n",
    "s = bigdata.groupby(['tf','Date']).size()\n",
    "#pd.set_option('display.max_rows',None)\n",
    "pd.set_option('max_rows', 10)\n",
    "#s = bigdata.groupby('tf')['Date'].count()\n",
    "s"
   ]
  },
  {
   "cell_type": "markdown",
   "metadata": {},
   "source": [
    "## Graph Plotting"
   ]
  },
  {
   "cell_type": "code",
   "execution_count": null,
   "metadata": {},
   "outputs": [],
   "source": [
    "fig, axs = plt.subplots(2, 2, figsize=(15,7))\n",
    "axs[0, 0].plot(dfm.Date, dfm.Last)\n",
    "axs[0, 0].set_title('Monthly')\n",
    "axs[0, 1].plot(dfw.Date, dfw.Last, 'tab:orange')\n",
    "axs[0, 1].set_title('Weekly]')\n",
    "axs[1, 0].plot(dfd.Date, dfd.Last, 'tab:green')\n",
    "axs[1, 0].set_title('Daily')\n",
    "axs[1, 1].plot(df4hr.Date, df4hr.Last, 'tab:red')\n",
    "axs[1, 1].set_title('4 Hour')\n",
    "\n",
    "for ax in axs.flat:\n",
    "    ax.set(xlabel='x-label', ylabel='y-label')\n",
    "\n",
    "# Hide x labels and tick labels for top plots and y ticks for right plots.\n",
    "for ax in axs.flat:\n",
    "    ax.label_outer()"
   ]
  },
  {
   "cell_type": "code",
   "execution_count": null,
   "metadata": {},
   "outputs": [],
   "source": []
  }
 ],
 "metadata": {
  "kernelspec": {
   "display_name": "Python 3",
   "language": "python",
   "name": "python3"
  },
  "language_info": {
   "codemirror_mode": {
    "name": "ipython",
    "version": 3
   },
   "file_extension": ".py",
   "mimetype": "text/x-python",
   "name": "python",
   "nbconvert_exporter": "python",
   "pygments_lexer": "ipython3",
   "version": "3.8.1"
  }
 },
 "nbformat": 4,
 "nbformat_minor": 4
}
