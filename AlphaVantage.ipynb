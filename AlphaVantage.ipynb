{
 "cells": [
  {
   "cell_type": "code",
   "execution_count": 77,
   "metadata": {},
   "outputs": [],
   "source": [
    "from alpha_vantage.foreignexchange import ForeignExchange\n",
    "import matplotlib.pyplot as plt\n",
    "cc = ForeignExchange(key='OGRPFV5D58LC77OL',output_format='pandas')\n",
    "# get_currency_exchange_intraday()\n",
    "# get_currency_exchange_daily()\n",
    "# get_currency_exchange_weekly()\n",
    "# get_currency_exchange_monthly()\n",
    "#data_daily, meta_data = cc.get_currency_exchange_daily(from_symbol='EUR',to_symbol='USD', outputsize='full')\n",
    "data_60m, meta_data = cc.get_currency_exchange_intraday(from_symbol='EUR',to_symbol='USD',interval='60min', outputsize='full')"
   ]
  },
  {
   "cell_type": "code",
   "execution_count": 78,
   "metadata": {},
   "outputs": [
    {
     "name": "stdout",
     "output_type": "stream",
     "text": [
      "                   date    open    high     low   close\n",
      "0   2020-01-16 14:00:00  1.1151  1.1160  1.1146  1.1154\n",
      "1   2020-01-16 13:00:00  1.1165  1.1170  1.1148  1.1151\n",
      "2   2020-01-16 12:00:00  1.1159  1.1173  1.1155  1.1165\n",
      "3   2020-01-16 11:00:00  1.1158  1.1161  1.1154  1.1159\n",
      "4   2020-01-16 10:00:00  1.1154  1.1163  1.1151  1.1157\n",
      "..                  ...     ...     ...     ...     ...\n",
      "378 2019-12-31 20:00:00  1.1217  1.1218  1.1213  1.1217\n",
      "379 2019-12-31 19:00:00  1.1223  1.1224  1.1215  1.1217\n",
      "380 2019-12-31 18:00:00  1.1229  1.1229  1.1221  1.1223\n",
      "381 2019-12-31 17:00:00  1.1226  1.1229  1.1221  1.1229\n",
      "382 2019-12-31 16:00:00  1.1224  1.1231  1.1215  1.1226\n",
      "\n",
      "[383 rows x 5 columns]\n"
     ]
    }
   ],
   "source": [
    "def cleanup_column(df):    \n",
    "    df.columns = ['open','high','low','close']      \n",
    "    return df\n",
    "\n",
    "cleanup_column(data_60m)\n",
    "data_60m.reset_index(inplace=True)\n",
    "print(data_60m)\n",
    "\n",
    "data_60m = data_60m.loc[(data_60m['date'] > '2020-01-10 14:00:00')]"
   ]
  },
  {
   "cell_type": "code",
   "execution_count": 79,
   "metadata": {},
   "outputs": [
    {
     "data": {
      "text/plain": [
       "(array([737435., 737436., 737437., 737438., 737439., 737440.]),\n",
       " <a list of 6 Text xticklabel objects>)"
      ]
     },
     "execution_count": 79,
     "metadata": {},
     "output_type": "execute_result"
    },
    {
     "data": {
      "image/png": "[encoded data removed]",
      "text/plain": [
       "<Figure size 432x288 with 1 Axes>"
      ]
     },
     "metadata": {
      "needs_background": "light"
     },
     "output_type": "display_data"
    }
   ],
   "source": [
    "x = data_60m.date\n",
    "y = data_60m.close\n",
    "plt.tight_layout()\n",
    "plt.plot(x, y, 'o')\n",
    "plt.xticks(rotation='vertical')"
   ]
  },
  {
   "cell_type": "code",
   "execution_count": 80,
   "metadata": {},
   "outputs": [
    {
     "name": "stdout",
     "output_type": "stream",
     "text": [
      "Index(['date', 'open', 'high', 'low', 'close'], dtype='object')\n"
     ]
    }
   ],
   "source": [
    "print(data_60m.columns)"
   ]
  },
  {
   "cell_type": "code",
   "execution_count": 81,
   "metadata": {},
   "outputs": [
    {
     "name": "stdout",
     "output_type": "stream",
     "text": [
      "                   date    open    high     low   close\n",
      "0   2020-01-16 14:00:00  1.1151  1.1160  1.1146  1.1154\n",
      "1   2020-01-16 13:00:00  1.1165  1.1170  1.1148  1.1151\n",
      "2   2020-01-16 12:00:00  1.1159  1.1173  1.1155  1.1165\n",
      "3   2020-01-16 11:00:00  1.1158  1.1161  1.1154  1.1159\n",
      "4   2020-01-16 10:00:00  1.1154  1.1163  1.1151  1.1157\n",
      "..                  ...     ...     ...     ...     ...\n",
      "139 2020-01-10 19:00:00  1.1119  1.1123  1.1115  1.1122\n",
      "140 2020-01-10 18:00:00  1.1122  1.1123  1.1117  1.1119\n",
      "141 2020-01-10 17:00:00  1.1118  1.1129  1.1117  1.1122\n",
      "142 2020-01-10 16:00:00  1.1113  1.1121  1.1109  1.1118\n",
      "143 2020-01-10 15:00:00  1.1101  1.1118  1.1097  1.1113\n",
      "\n",
      "[144 rows x 5 columns]\n"
     ]
    }
   ],
   "source": [
    "print(new_df)"
   ]
  },
  {
   "cell_type": "code",
   "execution_count": null,
   "metadata": {},
   "outputs": [],
   "source": []
  }
 ],
 "metadata": {
  "kernelspec": {
   "display_name": "Python 3",
   "language": "python",
   "name": "python3"
  },
  "language_info": {
   "codemirror_mode": {
    "name": "ipython",
    "version": 3
   },
   "file_extension": ".py",
   "mimetype": "text/x-python",
   "name": "python",
   "nbconvert_exporter": "python",
   "pygments_lexer": "ipython3",
   "version": "3.8.1"
  }
 },
 "nbformat": 4,
 "nbformat_minor": 4
}
