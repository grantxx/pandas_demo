{
 "cells": [
  {
   "cell_type": "code",
   "execution_count": 13,
   "metadata": {},
   "outputs": [
    {
     "name": "stdout",
     "output_type": "stream",
     "text": [
      "    Type  R0  R1  R2\n",
      "0     AP  16  20  78\n",
      "1    AP+  10  14  55\n",
      "2     SP  32  26  90\n",
      "3  Total   0   0   0\n"
     ]
    }
   ],
   "source": [
    "import pandas as pd\n",
    "# initialize list of lists and then...\n",
    "data = [['AP',16,20,78], ['AP+', 10,14,55], ['SP',32,26,90],['Total',0, 0, 0]] \n",
    "# Create the pandas DataFrame \n",
    "df = pd.DataFrame(data, columns = ['Type', 'R0', 'R1', 'R2']) \n",
    "print(df)"
   ]
  },
  {
   "cell_type": "code",
   "execution_count": 15,
   "metadata": {},
   "outputs": [
    {
     "name": "stdout",
     "output_type": "stream",
     "text": [
      "    Type  R0  R1   R2  Sum\n",
      "0     AP  16  20   78  114\n",
      "1    AP+  10  14   55   79\n",
      "2     SP  32  26   90  148\n",
      "3  Total  58  60  223  341\n"
     ]
    }
   ],
   "source": [
    "# List columns\n",
    "cols_to_sum=['R0', 'R1', 'R2']\n",
    "\n",
    "# Access last row and sum columns-wise\n",
    "df.loc[df.index[-1], cols_to_sum] = df[cols_to_sum].sum(axis=0)\n",
    "# Create 'Sum' column summing row-wise\n",
    "df['Sum']=df[cols_to_sum].sum(axis=1)\n",
    "print(df)"
   ]
  },
  {
   "cell_type": "code",
   "execution_count": null,
   "metadata": {},
   "outputs": [],
   "source": []
  }
 ],
 "metadata": {
  "kernelspec": {
   "display_name": "Python 3",
   "language": "python",
   "name": "python3"
  },
  "language_info": {
   "codemirror_mode": {
    "name": "ipython",
    "version": 3
   },
   "file_extension": ".py",
   "mimetype": "text/x-python",
   "name": "python",
   "nbconvert_exporter": "python",
   "pygments_lexer": "ipython3",
   "version": "3.8.1"
  }
 },
 "nbformat": 4,
 "nbformat_minor": 4
}
